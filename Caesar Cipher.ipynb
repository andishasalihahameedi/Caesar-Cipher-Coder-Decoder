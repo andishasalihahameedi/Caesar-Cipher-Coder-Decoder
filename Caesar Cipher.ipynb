{
 "cells": [
  {
   "cell_type": "code",
   "execution_count": 1,
   "id": "5bafc5cb-c457-4186-bd6a-1e98053d4ef5",
   "metadata": {},
   "outputs": [
    {
     "name": "stdin",
     "output_type": "stream",
     "text": [
      "normal message:  andisha\n"
     ]
    },
    {
     "name": "stdout",
     "output_type": "stream",
     "text": [
      "encrypted message:  çpglüjç\n"
     ]
    }
   ],
   "source": [
    "#sezar algortima----------------------------------------\n",
    "alphabet = ['a','b','c','ç','d','e','f','g','ğ','h','ı','i','j','k','l','m','n','o','ö','p','q','r','s','t','u','ü','v','y','z']\n",
    "encmsg = input ('normal message: ')\n",
    "encrypting_msg = ''\n",
    "for char in encmsg:\n",
    "    # Check whether the character is in the alphabet or not\n",
    "    if char.lower() in alphabet:\n",
    "        index = alphabet.index(char.lower())\n",
    "        shifted_index = (index + 3) % len(alphabet)\n",
    "        encrypting_msg += alphabet[ shifted_index]\n",
    "    else:\n",
    "        encrypting_msg += char\n",
    "print('encrypted message: ',encrypting_msg)\n",
    "    "
   ]
  },
  {
   "cell_type": "code",
   "execution_count": 2,
   "id": "1e7976db-af9b-449a-a394-ad749927e828",
   "metadata": {},
   "outputs": [
    {
     "name": "stdin",
     "output_type": "stream",
     "text": [
      "encrypted message:  çpglüjç\n"
     ]
    },
    {
     "name": "stdout",
     "output_type": "stream",
     "text": [
      "normal message:  andisha\n"
     ]
    }
   ],
   "source": [
    "alphabet = ['a','b','c','ç','d','e','f','g','ğ','h','ı','i','j','k','l','m','n','o','ö','p','q','r','s','t','u','ü','v','y','z']\n",
    "encmsg = input ('encrypted message: ')\n",
    "encrypted_msg = ''\n",
    "for char in encmsg:\n",
    "    # Check whether the character is in the alphabet or not\n",
    "    if char.lower() in alphabet:\n",
    "        index = alphabet.index(char.lower())\n",
    "        shifted_index = (index - 3) % len(alphabet)\n",
    "        encrypted_msg += alphabet[ shifted_index]\n",
    "    else:\n",
    "        encrypting_msg += char\n",
    "print('normal message: ',encrypted_msg)"
   ]
  },
  {
   "cell_type": "code",
   "execution_count": 8,
   "id": "a9f65ae1-94af-4ba8-a8e3-fdc4c88e932f",
   "metadata": {},
   "outputs": [
    {
     "name": "stdin",
     "output_type": "stream",
     "text": [
      "Enter your message:  andisha\n"
     ]
    },
    {
     "name": "stdout",
     "output_type": "stream",
     "text": [
      "Encrypted message: cöfkuic\n",
      "Decrypted message: andisha\n"
     ]
    }
   ],
   "source": [
    "#kaydirmali-------------------------------\n",
    "alphabet = ['a','b','c','ç','d','e','f','g','ğ','h','ı','i','j','k','l','m','n','o','ö','p','q','r','s','t','u','ü','v','y','z']\n",
    "# Define the message and key\n",
    "message = input('Enter your message: ')\n",
    "key = 89\n",
    "def caesar_cipher_encrypt(message, key):\n",
    "    encrypted_message = ''\n",
    "    for char in message:\n",
    "        if char.lower() in alphabet:\n",
    "            index = alphabet.index(char.lower())\n",
    "            shifted_index = (index + key) % len(alphabet)\n",
    "            encrypted_message += alphabet[shifted_index]\n",
    "        else:\n",
    "            encrypted_message += char\n",
    "    return encrypted_message\n",
    "\n",
    "def caesar_cipher_decrypt(encrypted_message, key):\n",
    "    decrypted_message = ''\n",
    "    for char in encrypted_message:\n",
    "        if char.lower() in alphabet:\n",
    "            index = alphabet.index(char.lower())\n",
    "            shifted_index = (index - key) % len(alphabet)\n",
    "            decrypted_message += alphabet[shifted_index]\n",
    "        else:\n",
    "            decrypted_message += char\n",
    "    return decrypted_message\n",
    "\n",
    "# Encrypt the message\n",
    "encrypted_message = caesar_cipher_encrypt(message, key)\n",
    "print('Encrypted message:', encrypted_message)\n",
    "\n",
    "# Decrypt the encrypted message\n",
    "decrypted_message = caesar_cipher_decrypt(encrypted_message, key)\n",
    "print('Decrypted message:', decrypted_message)\n"
   ]
  },
  {
   "cell_type": "code",
   "execution_count": 7,
   "id": "fbac97c6-b7c7-412b-9350-e4aee83aa275",
   "metadata": {},
   "outputs": [
    {
     "name": "stdin",
     "output_type": "stream",
     "text": [
      "Enter your message:  andisha\n"
     ]
    },
    {
     "name": "stdout",
     "output_type": "stream",
     "text": [
      "Encrypted message: zdsvuaz\n",
      "Decrypted message: andisha\n"
     ]
    }
   ],
   "source": [
    "#dogrusal sifreleme-------------------------------\n",
    "alphabet = ['a','b','c','ç','d','e','f','g','ğ','h','ı','i','j','k','l','m','n','o','ö','p','q','r','s','t','u','ü','v','y','z']\n",
    "# Define the message and key\n",
    "message = input('Enter your message: ')\n",
    "Q = 999\n",
    "S = 57\n",
    "# Function to calculate the modular inverse\n",
    "def mod_inverse(a, m):\n",
    "    for x in range(1, m):\n",
    "        if (a * x) % m == 1:\n",
    "            return x\n",
    "    return None\n",
    "def caesar_cipher_encrypt(message):\n",
    "    encrypted_message = ''\n",
    "    for char in message:\n",
    "        if char.lower() in alphabet:\n",
    "            index = alphabet.index(char.lower())\n",
    "            shifted_index = ((index * Q) + S) % len(alphabet)\n",
    "            encrypted_message += alphabet[shifted_index]\n",
    "        else:\n",
    "            encrypted_message += char\n",
    "    return encrypted_message\n",
    "\n",
    "def caesar_cipher_decrypt(encrypted_message):\n",
    "    decrypted_message = ''\n",
    "    for char in encrypted_message:\n",
    "        if char.lower() in alphabet:\n",
    "            index = alphabet.index(char.lower())\n",
    "            shifted_index = ((index - S) * mod_inverse(Q, len(alphabet))) % len(alphabet)\n",
    "            decrypted_message += alphabet[shifted_index]\n",
    "        else:\n",
    "            decrypted_message += char\n",
    "    return decrypted_message\n",
    "\n",
    "# Encrypt the message\n",
    "encrypted_message = caesar_cipher_encrypt(message)\n",
    "print('Encrypted message:', encrypted_message)\n",
    "\n",
    "# Decrypt the encrypted message\n",
    "decrypted_message = caesar_cipher_decrypt(encrypted_message)\n",
    "print('Decrypted message:', decrypted_message)\n"
   ]
  },
  {
   "cell_type": "code",
   "execution_count": null,
   "id": "efe66739-7533-4674-b8dd-3de6a515c139",
   "metadata": {},
   "outputs": [],
   "source": []
  }
 ],
 "metadata": {
  "kernelspec": {
   "display_name": "Python 3 (ipykernel)",
   "language": "python",
   "name": "python3"
  },
  "language_info": {
   "codemirror_mode": {
    "name": "ipython",
    "version": 3
   },
   "file_extension": ".py",
   "mimetype": "text/x-python",
   "name": "python",
   "nbconvert_exporter": "python",
   "pygments_lexer": "ipython3",
   "version": "3.11.5"
  }
 },
 "nbformat": 4,
 "nbformat_minor": 5
}
